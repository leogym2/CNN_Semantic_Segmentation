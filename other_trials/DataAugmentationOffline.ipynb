{
  "cells": [
    {
      "cell_type": "code",
      "execution_count": null,
      "metadata": {
        "colab": {
          "base_uri": "https://localhost:8080/"
        },
        "id": "mHZoWHm7E_3Q",
        "outputId": "858a758c-ab14-43d9-ecea-7ff7436492cb"
      },
      "outputs": [
        {
          "output_type": "stream",
          "name": "stdout",
          "text": [
            "Mounted at /content/gdrive\n"
          ]
        }
      ],
      "source": [
        "import tensorflow as tf\n",
        "from tensorflow import keras\n",
        "from google.colab import drive\n",
        "import numpy as np\n",
        "import glob\n",
        "import matplotlib.pyplot as plt\n",
        "\n",
        "drive.mount('/content/gdrive')"
      ]
    },
    {
      "cell_type": "code",
      "source": [
        "import os\n",
        "import cv2\n",
        "import numpy as np\n",
        "import random\n",
        "from tqdm import tqdm\n",
        "import albumentations as A\n",
        "\n",
        "image_dir = \"/content/gdrive/My Drive/DeepLearning/dataset/images\"\n",
        "mask_dir = \"/content/gdrive/My Drive/DeepLearning/dataset/labels_index\"\n",
        "\n",
        "output_image_dir = \"/content/gdrive/My Drive/DeepLearning/dataset/aug_images\"\n",
        "output_mask_dir = \"/content/gdrive/My Drive/DeepLearning/dataset/aug_masks\"\n",
        "\n",
        "os.makedirs(output_image_dir, exist_ok=True)\n",
        "os.makedirs(output_mask_dir, exist_ok=True)\n",
        "\n",
        "# Augmentation pipeline basata sul tuo codice ma più ricca e senza flip\n",
        "transform = A.Compose([\n",
        "    A.RandomResizedCrop(size=(720, 960), scale=(0.8, 1.0), ratio=(0.9, 1.1), p=0.5),\n",
        "    A.MotionBlur(blur_limit=5, p=0.5),\n",
        "    A.Rotate(limit=10, p=0.5),  # rotazioni leggere ±10°\n",
        "], additional_targets={'mask': 'mask'})\n",
        "\n",
        "image_filenames = [f for f in os.listdir(image_dir) if f.endswith('.png')]\n",
        "\n",
        "for filename in tqdm(image_filenames, desc=\"Augmentation offline\"):\n",
        "    if random.random() > 0.5:\n",
        "        continue  # skip 50%\n",
        "\n",
        "    img_path = os.path.join(image_dir, filename)\n",
        "    mask_path = os.path.join(mask_dir, filename.replace('.png', '.npy'))\n",
        "\n",
        "    image = cv2.imread(img_path)\n",
        "    mask_np = np.load(mask_path).astype(np.uint8)\n",
        "    if len(mask_np.shape) > 2:\n",
        "        mask_np = np.squeeze(mask_np)\n",
        "\n",
        "    augmented = transform(image=image, mask=mask_np)\n",
        "    aug_img = augmented['image']\n",
        "    aug_mask = augmented['mask']\n",
        "\n",
        "    base_name = os.path.splitext(filename)[0]\n",
        "    new_img_name = base_name + \"_aug.png\"\n",
        "    new_mask_name = base_name + \"_aug.png\"\n",
        "\n",
        "    cv2.imwrite(os.path.join(output_image_dir, new_img_name), aug_img)\n",
        "    cv2.imwrite(os.path.join(output_mask_dir, new_mask_name), aug_mask)\n"
      ],
      "metadata": {
        "colab": {
          "base_uri": "https://localhost:8080/"
        },
        "id": "zrIZmCUnp_NP",
        "outputId": "4f068e7c-0409-4478-b264-abd95341d248"
      },
      "execution_count": null,
      "outputs": [
        {
          "output_type": "stream",
          "name": "stderr",
          "text": [
            "Augmentation offline: 100%|██████████| 701/701 [04:45<00:00,  2.45it/s]\n"
          ]
        }
      ]
    },
    {
      "cell_type": "code",
      "source": [
        "import os\n",
        "import cv2\n",
        "import numpy as np\n",
        "from tqdm import tqdm\n",
        "\n",
        "input_mask_dir = \"gdrive/My Drive/DeepLearning/dataset/aug_masks\"\n",
        "output_mask_dir = \"gdrive/My Drive/DeepLearning/dataset/aug_masks_npy\"\n",
        "\n",
        "os.makedirs(output_mask_dir, exist_ok=True)\n",
        "\n",
        "mask_files = [f for f in os.listdir(input_mask_dir) if f.endswith('.png')]\n",
        "\n",
        "for fname in tqdm(mask_files, desc=\"Convert PNG to NPY\"):\n",
        "    png_path = os.path.join(input_mask_dir, fname)\n",
        "    mask = cv2.imread(png_path, cv2.IMREAD_UNCHANGED)  # legge valori esatti\n",
        "\n",
        "    if mask is None:\n",
        "        print(f\"Errore nel leggere: {png_path}\")\n",
        "        continue\n",
        "\n",
        "    # In caso sia RGB o abbia più canali\n",
        "    if len(mask.shape) == 3:\n",
        "        mask = cv2.cvtColor(mask, cv2.COLOR_BGR2GRAY)\n",
        "\n",
        "    base_name = os.path.splitext(fname)[0]\n",
        "    npy_path = os.path.join(output_mask_dir, base_name + \".npy\")\n",
        "\n",
        "    np.save(npy_path, mask.astype(np.uint8))\n"
      ],
      "metadata": {
        "colab": {
          "base_uri": "https://localhost:8080/"
        },
        "id": "6r1gIMLLBPty",
        "outputId": "a0ade68c-9840-44e7-d0f4-3b2955f2c273"
      },
      "execution_count": null,
      "outputs": [
        {
          "output_type": "stream",
          "name": "stderr",
          "text": [
            "Convert PNG to NPY: 100%|██████████| 361/361 [00:07<00:00, 49.55it/s]\n"
          ]
        }
      ]
    },
    {
      "cell_type": "code",
      "source": [
        "import glob\n",
        "import os\n",
        "\n",
        "# Directory\n",
        "image_dirs = [\n",
        "    'gdrive/My Drive/DeepLearning/dataset/images',\n",
        "    'gdrive/My Drive/DeepLearning/dataset/aug_images'\n",
        "]\n",
        "mask_dirs = [\n",
        "    'gdrive/My Drive/DeepLearning/dataset/labels_index',\n",
        "    'gdrive/My Drive/DeepLearning/dataset/aug_masks_npy'\n",
        "]\n",
        "\n",
        "# Funzione per trovare la maschera associata a una data immagine\n",
        "def find_mask_for_image(image_path):\n",
        "    base_name = os.path.splitext(os.path.basename(image_path))[0]\n",
        "    for mask_dir in mask_dirs:\n",
        "        candidate = os.path.join(mask_dir, base_name + '.npy')\n",
        "        if os.path.exists(candidate):\n",
        "            return candidate\n",
        "    raise FileNotFoundError(f\"Maschera non trovata per immagine: {image_path}\")\n",
        "\n",
        "# Costruisci tutti i path delle immagini e delle maschere\n",
        "all_image_paths = []\n",
        "all_mask_paths = []\n",
        "\n",
        "for image_dir in image_dirs:\n",
        "    image_files = sorted(glob.glob(os.path.join(image_dir, '*.png')))\n",
        "    for img_path in image_files:\n",
        "        try:\n",
        "            mask_path = find_mask_for_image(img_path)\n",
        "            all_image_paths.append(img_path)\n",
        "            all_mask_paths.append(mask_path)\n",
        "        except FileNotFoundError as e:\n",
        "            print(e)  # opzionale: per debug\n"
      ],
      "metadata": {
        "id": "3Nz21LYHB0ZO"
      },
      "execution_count": null,
      "outputs": []
    },
    {
      "cell_type": "code",
      "source": [
        "orig_images = sorted(glob.glob('gdrive/My Drive/DeepLearning/dataset/images/*.png'))\n",
        "orig_masks  = sorted(glob.glob('gdrive/My Drive/DeepLearning/dataset/labels_index/*.npy'))\n",
        "\n",
        "aug_images = sorted(glob.glob('gdrive/My Drive/DeepLearning/dataset/aug_images/*.png'))\n",
        "aug_masks  = sorted(glob.glob('gdrive/My Drive/DeepLearning/dataset/aug_masks/*.png'))\n",
        "\n",
        "print(\"Originali - Immagini:\", len(orig_images))\n",
        "print(\"Originali - Maschere:\", len(orig_masks))\n",
        "print(\"Augmentate - Immagini:\", len(aug_images))\n",
        "print(\"Augmentate - Maschere:\", len(aug_masks))"
      ],
      "metadata": {
        "colab": {
          "base_uri": "https://localhost:8080/"
        },
        "id": "J-rxCz6muUSG",
        "outputId": "69358951-5b91-4ff9-f5cd-776f73fc28a9"
      },
      "execution_count": null,
      "outputs": [
        {
          "output_type": "stream",
          "name": "stdout",
          "text": [
            "Originali - Immagini: 701\n",
            "Originali - Maschere: 701\n",
            "Augmentate - Immagini: 361\n",
            "Augmentate - Maschere: 361\n"
          ]
        }
      ]
    }
  ],
  "metadata": {
    "accelerator": "GPU",
    "colab": {
      "gpuType": "T4",
      "provenance": []
    },
    "kernelspec": {
      "display_name": "Python 3",
      "name": "python3"
    },
    "language_info": {
      "name": "python"
    }
  },
  "nbformat": 4,
  "nbformat_minor": 0
}